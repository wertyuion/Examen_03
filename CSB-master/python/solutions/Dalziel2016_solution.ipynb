{
 "cells": [
  {
   "cell_type": "markdown",
   "metadata": {},
   "source": [
    "# Solution of 3.8.1, Dalziel *et al.* 2016"
   ]
  },
  {
   "cell_type": "markdown",
   "metadata": {},
   "source": [
    "## Write a program that extracts the names of all the cities in the database (one city per entry)"
   ]
  },
  {
   "cell_type": "markdown",
   "metadata": {},
   "source": [
    "For this exercise, we need to a) open the file `data/Dalziel2016_data.csv` for reading; b) read all the lines; c) add the name of the city to a data structure, making sure that we have no repeated entry. For this reason, we're going to work with sets. We start by initializing an empty set called `cities`:"
   ]
  },
  {
   "cell_type": "code",
   "execution_count": 1,
   "metadata": {},
   "outputs": [],
   "source": [
    "cities = set([]) # initialize an empty set"
   ]
  },
  {
   "cell_type": "markdown",
   "metadata": {},
   "source": [
    "Now we open the file for reading. We use the `with` statement that takes care of closing the file:"
   ]
  },
  {
   "cell_type": "code",
   "execution_count": 2,
   "metadata": {},
   "outputs": [
    {
     "name": "stdout",
     "output_type": "stream",
     "text": [
      "OrderedDict([('biweek', '1'), ('year', '1906'), ('loc', 'BALTIMORE'), ('cases', 'NA'), ('pop', '526822.1365')])\n"
     ]
    }
   ],
   "source": [
    "import csv # we this module to handle csv files\n",
    "with open('../data/Dalziel2016_data.csv', 'r') as f: # 'r' stands for reading\n",
    "    my_csv = csv.DictReader(f) # set up the csv reader\n",
    "    for line in my_csv: # loop over all lines\n",
    "        print(line)\n",
    "        break # break the loop after printing the first line to inspect results"
   ]
  },
  {
   "cell_type": "markdown",
   "metadata": {},
   "source": [
    "In the code above, we have imported the module `csv`, which allows us to parse character-delimited files. In this case, we do not need to specify any special option, as we're reading a plain-vanilla `csv` file, delimited by commas. \n",
    "\n",
    "Having opened the file, we create a `DictReader` object, which parses each line, creating a dictionary whose entries are the values for each of the columns (named as specified by the *header* of the `csv` file). \n",
    "\n",
    "You can see that in the dictionary, the city is identified by the *key* `'loc'`. We can therefore add the *value* `line['loc']` to the set, completing the exercise:"
   ]
  },
  {
   "cell_type": "code",
   "execution_count": 3,
   "metadata": {},
   "outputs": [],
   "source": [
    "import csv # we use the csv module, as we want to read a csv file\n",
    "with open('../data/Dalziel2016_data.csv', 'r') as f: # 'r' stands for reading\n",
    "    my_csv = csv.DictReader(f)\n",
    "    for line in my_csv:\n",
    "        cities.add(line['loc'])"
   ]
  },
  {
   "cell_type": "markdown",
   "metadata": {},
   "source": [
    "Now all the cities are stored in the set `cities`, with all the duplicates automatically removed (as we're using a set):"
   ]
  },
  {
   "cell_type": "code",
   "execution_count": 4,
   "metadata": {},
   "outputs": [
    {
     "data": {
      "text/plain": [
       "{'BALTIMORE',\n",
       " 'BOSTON',\n",
       " 'BRIDGEPORT',\n",
       " 'BUFFALO',\n",
       " 'CHICAGO',\n",
       " 'CINCINNATI',\n",
       " 'CLEVELAND',\n",
       " 'COLUMBUS',\n",
       " 'DENVER',\n",
       " 'DETROIT',\n",
       " 'DULUTH',\n",
       " 'FALL RIVER',\n",
       " 'GRAND RAPIDS',\n",
       " 'HARTFORD',\n",
       " 'INDIANAPOLIS',\n",
       " 'KANSAS CITY',\n",
       " 'LOS ANGELES',\n",
       " 'MILWAUKEE',\n",
       " 'MINNEAPOLIS',\n",
       " 'NASHVILLE',\n",
       " 'NEW HAVEN',\n",
       " 'NEW ORLEANS',\n",
       " 'NEW YORK',\n",
       " 'NEWARK',\n",
       " 'PHILADELPHIA',\n",
       " 'PITTSBURGH',\n",
       " 'PROVIDENCE',\n",
       " 'READING.US',\n",
       " 'RICHMOND',\n",
       " 'ROCHESTER',\n",
       " 'SALT LAKE CITY',\n",
       " 'SAN FRANCISCO',\n",
       " 'SEATTLE',\n",
       " 'SPOKANE',\n",
       " 'SPRINGFIELD',\n",
       " 'ST LOUIS',\n",
       " 'TOLEDO',\n",
       " 'TRENTON',\n",
       " 'WASHINGTON',\n",
       " 'WORCESTER'}"
      ]
     },
     "execution_count": 4,
     "metadata": {},
     "output_type": "execute_result"
    }
   ],
   "source": [
    "cities"
   ]
  },
  {
   "cell_type": "markdown",
   "metadata": {},
   "source": [
    "## Write a program that creates a dictionary where the keys are the cities, and the values are the number of records (rows) for that city in the data."
   ]
  },
  {
   "cell_type": "markdown",
   "metadata": {},
   "source": [
    "This task requires a slightly different approach. We need to keep track of how many records are associated with each city. We can therefore create a dictionary `citycount` storing the city (*key*) and the associated number of records (*value*). \n",
    "\n",
    "Because initially the dictionary is empty, every time we encounter a new city we need to add a *key* to the dictionary. The simplest way to do this is to use the dictionary method `get`, which allows us to either update the value (if the key is already present), or to add a new key (if the key is not present). For example:"
   ]
  },
  {
   "cell_type": "code",
   "execution_count": 5,
   "metadata": {},
   "outputs": [
    {
     "data": {
      "text/plain": [
       "{'my_new_key': 1}"
      ]
     },
     "execution_count": 5,
     "metadata": {},
     "output_type": "execute_result"
    }
   ],
   "source": [
    "a = {} # an empty dictionary\n",
    "a['my_new_key'] = a.get('my_new_key', 0) + 1 \n",
    "a"
   ]
  },
  {
   "cell_type": "markdown",
   "metadata": {},
   "source": [
    "The code above shows that when the key is not already, present, the key will be added, and its value will be initially `1`. If on the other hand the key is present, we will simply increment its associated value:"
   ]
  },
  {
   "cell_type": "code",
   "execution_count": 6,
   "metadata": {},
   "outputs": [
    {
     "data": {
      "text/plain": [
       "{'my_new_key': 2}"
      ]
     },
     "execution_count": 6,
     "metadata": {},
     "output_type": "execute_result"
    }
   ],
   "source": [
    "a['my_new_key'] = a.get('my_new_key', 0) + 1 \n",
    "a"
   ]
  },
  {
   "cell_type": "markdown",
   "metadata": {},
   "source": [
    "With this at hand, we can write our program:"
   ]
  },
  {
   "cell_type": "code",
   "execution_count": 7,
   "metadata": {},
   "outputs": [],
   "source": [
    "citycount = {} # initiate an empty dictionary\n",
    "import csv # we use the csv module, as we want to read a csv file\n",
    "with open('../data/Dalziel2016_data.csv', 'r') as f: # 'r' stands for reading\n",
    "    my_csv = csv.DictReader(f)\n",
    "    for line in my_csv:\n",
    "        # this is the city to update\n",
    "        mycity = line['loc']\n",
    "        # if it's present, increment the value\n",
    "        # if it's not present, initialize to 1\n",
    "        citycount[mycity] = citycount.get(mycity, 0)\n",
    "        citycount[mycity] = citycount[mycity] + 1"
   ]
  },
  {
   "cell_type": "markdown",
   "metadata": {},
   "source": [
    "That's it. Let's print the counts for a few cities:"
   ]
  },
  {
   "cell_type": "code",
   "execution_count": 8,
   "metadata": {},
   "outputs": [
    {
     "name": "stdout",
     "output_type": "stream",
     "text": [
      "CHICAGO 1118\n",
      "LOS ANGELES 1118\n",
      "NEW YORK 1118\n"
     ]
    }
   ],
   "source": [
    "for city in ['CHICAGO', 'LOS ANGELES', 'NEW YORK']:\n",
    "    print(city, citycount[city])"
   ]
  },
  {
   "cell_type": "markdown",
   "metadata": {},
   "source": [
    "## Write a program that calculates the mean population for each city, obtained by averaging the value of `pop`."
   ]
  },
  {
   "cell_type": "markdown",
   "metadata": {},
   "source": [
    "We can proceed as before. Remember that the mean is the sum of elements divided by the number of elements ($\\mathbb E[x_1, x_2, x_3, x_4, \\ldots, x_n] = \\frac{1}{n}\\sum_{i=1}^{n} x_i$).\n",
    "\n",
    "Therefore, we can simply keep summing the population at each step, and at the end divide by the number of records. We create a new dictionary, `citypop` whose value is a *list*, containing the current sum of the population, and the number of records for the city:"
   ]
  },
  {
   "cell_type": "code",
   "execution_count": 9,
   "metadata": {},
   "outputs": [],
   "source": [
    "citypop = {}\n",
    "import csv # we use the csv module, as we want to read a csv file\n",
    "with open('../data/Dalziel2016_data.csv', 'r') as f: # 'r' stands for reading\n",
    "    my_csv = csv.DictReader(f)\n",
    "    for line in my_csv:\n",
    "        # this is the city to update\n",
    "        mycity = line['loc']\n",
    "        # current pop\n",
    "        pop = float(line['pop']) # transform to float\n",
    "        # if it's present, increment the value\n",
    "        # if it's not present, initialize a list with both population and count as zero\n",
    "        citypop[mycity] = citypop.get(mycity, [0,0])\n",
    "        # update population (stored as first value of list)\n",
    "        citypop[mycity][0] = citypop[mycity][0] + pop\n",
    "        # update number of records (stored as second value of list)\n",
    "        citypop[mycity][1] = citypop[mycity][1] + 1"
   ]
  },
  {
   "cell_type": "code",
   "execution_count": 10,
   "metadata": {},
   "outputs": [
    {
     "data": {
      "text/plain": [
       "{'BALTIMORE': [852064394.4319992, 1118],\n",
       " 'BOSTON': [838182525.1315998, 1118],\n",
       " 'BRIDGEPORT': [153992147.5000699, 1118],\n",
       " 'BUFFALO': [590188826.5568998, 1118],\n",
       " 'CHICAGO': [3346478160.099001, 1118],\n",
       " 'CINCINNATI': [476570324.3801995, 1118],\n",
       " 'CLEVELAND': [895654069.0593997, 1118],\n",
       " 'COLUMBUS': [296369301.20559984, 1118],\n",
       " 'DENVER': [316218012.39949924, 1118],\n",
       " 'DETROIT': [1386865097.4254, 1118],\n",
       " 'DULUTH': [108107768.67043993, 1118],\n",
       " 'FALL RIVER': [131021870.39960006, 1118],\n",
       " 'GRAND RAPIDS': [166710967.5439999, 1118],\n",
       " 'HARTFORD': [163331387.46438012, 1118],\n",
       " 'INDIANAPOLIS': [375166935.70720017, 1118],\n",
       " 'KANSAS CITY': [259178329.18899986, 1118],\n",
       " 'LOS ANGELES': [1130219693.2247996, 1118],\n",
       " 'MILWAUKEE': [573871553.6460003, 1118],\n",
       " 'MINNEAPOLIS': [472055535.7656998, 1118],\n",
       " 'NASHVILLE': [158006495.8098898, 1118],\n",
       " 'NEW HAVEN': [174722096.8123, 1118],\n",
       " 'NEW ORLEANS': [485409089.0958999, 1118],\n",
       " 'NEW YORK': [7128667329.930001, 1118],\n",
       " 'NEWARK': [461290195.0237001, 1118],\n",
       " 'PHILADELPHIA': [2059222693.4399996, 1118],\n",
       " 'PITTSBURGH': [696554638.3960005, 1118],\n",
       " 'PROVIDENCE': [271998881.5344998, 1118],\n",
       " 'READING.US': [119528247.67913005, 1118],\n",
       " 'RICHMOND': [195617340.76740003, 1118],\n",
       " 'ROCHESTER': [332343203.71729976, 1118],\n",
       " 'SALT LAKE CITY': [146091306.56043985, 1118],\n",
       " 'SAN FRANCISCO': [637121635.7180995, 1118],\n",
       " 'SEATTLE': [374078074.35140014, 1118],\n",
       " 'SPOKANE': [127242978.51299988, 1118],\n",
       " 'SPRINGFIELD': [148986059.7662199, 1118],\n",
       " 'ST LOUIS': [876436587.4204999, 1118],\n",
       " 'TOLEDO': [282808550.9529003, 1118],\n",
       " 'TRENTON': [131378128.07106006, 1118],\n",
       " 'WASHINGTON': [572394549.4401004, 1118],\n",
       " 'WORCESTER': [203141985.43980017, 1118]}"
      ]
     },
     "execution_count": 10,
     "metadata": {},
     "output_type": "execute_result"
    }
   ],
   "source": [
    "citypop"
   ]
  },
  {
   "cell_type": "markdown",
   "metadata": {},
   "source": [
    "Excellent. Now each key in the dictionary indexes a list whose first element is the sum of all the population values, and the second element is the number of records that contributed to the sum. To obtain the average population, we divide the first by the second:"
   ]
  },
  {
   "cell_type": "code",
   "execution_count": 11,
   "metadata": {},
   "outputs": [],
   "source": [
    "for city in citypop.keys():\n",
    "    citypop[city][0] = citypop[city][0] / citypop[city][1]"
   ]
  },
  {
   "cell_type": "markdown",
   "metadata": {},
   "source": [
    "Let's see some of the averages to make sure they make sense:"
   ]
  },
  {
   "cell_type": "code",
   "execution_count": 12,
   "metadata": {},
   "outputs": [
    {
     "name": "stdout",
     "output_type": "stream",
     "text": [
      "CHICAGO 2993272.0573336324\n",
      "LOS ANGELES 1010929.958161717\n",
      "NEW YORK 6376267.736967801\n"
     ]
    }
   ],
   "source": [
    "for city in ['CHICAGO', 'LOS ANGELES', 'NEW YORK']:\n",
    "    print(city, citypop[city][0])"
   ]
  },
  {
   "cell_type": "markdown",
   "metadata": {},
   "source": [
    "If we want print only a few decimals, we can use `round`:"
   ]
  },
  {
   "cell_type": "code",
   "execution_count": 13,
   "metadata": {},
   "outputs": [
    {
     "name": "stdout",
     "output_type": "stream",
     "text": [
      "CHICAGO 2993272.1\n",
      "LOS ANGELES 1010930.0\n",
      "NEW YORK 6376267.7\n"
     ]
    }
   ],
   "source": [
    "for city in ['CHICAGO', 'LOS ANGELES', 'NEW YORK']:\n",
    "    print(city, round(citypop[city][0],1))"
   ]
  },
  {
   "cell_type": "markdown",
   "metadata": {},
   "source": [
    "## Write a program that calculates the mean population for each city and year."
   ]
  },
  {
   "cell_type": "markdown",
   "metadata": {},
   "source": [
    "Though this exercise looks very much like the previous one, we need to change the data structure slightly. In fact, now each city contains many years, and each year should index the corresponding population. The following solution uses a dictionary (where the keys are the cities) of dictionaries (where the keys are the years) of lists (accumulated population, number of records per year)!"
   ]
  },
  {
   "cell_type": "code",
   "execution_count": 14,
   "metadata": {},
   "outputs": [],
   "source": [
    "cityyear = {}"
   ]
  },
  {
   "cell_type": "code",
   "execution_count": 15,
   "metadata": {},
   "outputs": [],
   "source": [
    "cityyear = {}\n",
    "import csv # we use the csv module, as we want to read a csv file\n",
    "with open('../data/Dalziel2016_data.csv', 'r') as f: # 'r' stands for reading\n",
    "    my_csv = csv.DictReader(f)\n",
    "    for line in my_csv:\n",
    "        # this is the city to update\n",
    "        mycity = line['loc']\n",
    "        # this is the year to update\n",
    "        year = line['year']\n",
    "        # current pop\n",
    "        pop = float(line['pop']) # transform to float\n",
    "        # make sure the city is in the dictionary, or initialize\n",
    "        cityyear[mycity] = cityyear.get(mycity, {})\n",
    "        # make sure the year is in the sub-dictionary, or initialize\n",
    "        cityyear[mycity][year] = cityyear[mycity].get(year, [0,0])\n",
    "        # now proceed as for exercise 3 but access the inner dictionary\n",
    "        # update population\n",
    "        cityyear[mycity][year][0] = cityyear[mycity][year][0] + pop\n",
    "        # update number of records\n",
    "        cityyear[mycity][year][1] = cityyear[mycity][year][1] + 1\n",
    "# now compute averages\n",
    "for city in cityyear.keys():\n",
    "    for year in cityyear[city].keys():\n",
    "        cityyear[city][year][0] = cityyear[city][year][0] / cityyear[city][year][1]"
   ]
  },
  {
   "cell_type": "markdown",
   "metadata": {},
   "source": [
    "Let's look at the results for Chicago: you can see that the population grew by more than 50% in the period covered by the data!"
   ]
  },
  {
   "cell_type": "code",
   "execution_count": 16,
   "metadata": {},
   "outputs": [
    {
     "name": "stdout",
     "output_type": "stream",
     "text": [
      "1906 2024453\n",
      "1907 2071166\n",
      "1908 2117046\n",
      "1909 2162137\n",
      "1910 2206507\n",
      "1911 2250497\n",
      "1912 2294736\n",
      "1913 2339879\n",
      "1914 2386581\n",
      "1915 2435498\n",
      "1916 2487285\n",
      "1917 2542598\n",
      "1918 2602091\n",
      "1919 2666421\n",
      "1920 2736144\n",
      "1921 2810674\n",
      "1922 2888232\n",
      "1923 2966923\n",
      "1924 3044854\n",
      "1925 3120130\n",
      "1926 3190859\n",
      "1927 3255145\n",
      "1928 3311095\n",
      "1929 3356815\n",
      "1930 3390564\n",
      "1931 3412364\n",
      "1932 3424085\n",
      "1933 3427769\n",
      "1934 3425462\n",
      "1935 3419208\n",
      "1936 3411050\n",
      "1937 3403033\n",
      "1938 3397202\n",
      "1939 3395600\n",
      "1940 3400149\n",
      "1941 3411346\n",
      "1942 3428198\n",
      "1943 3449572\n",
      "1944 3474333\n",
      "1945 3501348\n",
      "1946 3529481\n",
      "1947 3557600\n",
      "1948 3584569\n"
     ]
    }
   ],
   "source": [
    "# a dictionary has no natural order but here we want to order by year\n",
    "# store the years in a list\n",
    "years = list(cityyear['CHICAGO'].keys())\n",
    "# sort the years\n",
    "years.sort() # this is done in place!\n",
    "# now print population for each year\n",
    "for year in years:\n",
    "    print(year, round(cityyear['CHICAGO'][year][0]))"
   ]
  }
 ],
 "metadata": {
  "kernelspec": {
   "display_name": "Python 3",
   "language": "python",
   "name": "python3"
  },
  "language_info": {
   "codemirror_mode": {
    "name": "ipython",
    "version": 3
   },
   "file_extension": ".py",
   "mimetype": "text/x-python",
   "name": "python",
   "nbconvert_exporter": "python",
   "pygments_lexer": "ipython3",
   "version": "3.6.4"
  }
 },
 "nbformat": 4,
 "nbformat_minor": 1
}
