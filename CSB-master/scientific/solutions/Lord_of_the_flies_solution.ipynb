{
 "cells": [
  {
   "cell_type": "markdown",
   "metadata": {},
   "source": [
    "## Solution of 6.6.1, Lord of the Fruit Flies\n",
    "\n",
    "### Identify the number of papers in PubMed that has *Drosophila virilis* in the title or abstract"
   ]
  },
  {
   "cell_type": "code",
   "execution_count": 1,
   "metadata": {},
   "outputs": [],
   "source": [
    "from Bio import Entrez\n",
    "import re"
   ]
  },
  {
   "cell_type": "markdown",
   "metadata": {
    "collapsed": true
   },
   "source": [
    "We construct an ```esearch``` request and use the NCBI history function in order to refer to this search in our subsequent ```efetch``` call."
   ]
  },
  {
   "cell_type": "code",
   "execution_count": 2,
   "metadata": {},
   "outputs": [
    {
     "data": {
      "text/plain": [
       "'543'"
      ]
     },
     "execution_count": 2,
     "metadata": {},
     "output_type": "execute_result"
    }
   ],
   "source": [
    "# Always tell NCBI who you are (edit the e-mail below!)\n",
    "Entrez.email = \"your_name@yourmailhost.com\"\n",
    "handle = Entrez.esearch(db=\"pubmed\", \n",
    "                        term=\"Drosophila virilis[Title/Abstract]\",\n",
    "                        usehistory=\"y\")\n",
    "record = Entrez.read(handle)\n",
    "# generate a Python list with all Pubmed IDs of articles about D. virilis\n",
    "id_list = record[\"IdList\"]\n",
    "record[\"Count\"]"
   ]
  },
  {
   "cell_type": "code",
   "execution_count": 3,
   "metadata": {},
   "outputs": [],
   "source": [
    "webenv = record[\"WebEnv\"]\n",
    "query_key = record[\"QueryKey\"]"
   ]
  },
  {
   "cell_type": "markdown",
   "metadata": {},
   "source": [
    "## Retrieve the PubMed entries using our search history"
   ]
  },
  {
   "cell_type": "code",
   "execution_count": 4,
   "metadata": {},
   "outputs": [],
   "source": [
    "handle = Entrez.efetch(db=\"pubmed\",\n",
    "                       rettype=\"medline\", \n",
    "                       retmode=\"text\", \n",
    "                       retstart=0,\n",
    "retmax=543, webenv=webenv, query_key=query_key)"
   ]
  },
  {
   "cell_type": "code",
   "execution_count": 5,
   "metadata": {},
   "outputs": [],
   "source": [
    "out_handle = open(\"D_virilis_pubs.txt\", \"w\")\n",
    "data = handle.read()\n",
    "handle.close()\n",
    "out_handle.write(data)\n",
    "out_handle.close()"
   ]
  },
  {
   "cell_type": "markdown",
   "metadata": {},
   "source": [
    "## Count the number of contributions per author"
   ]
  },
  {
   "cell_type": "markdown",
   "metadata": {},
   "source": [
    "We construct a dictionary with all authors as keys and the number of contributions as value."
   ]
  },
  {
   "cell_type": "code",
   "execution_count": 6,
   "metadata": {},
   "outputs": [],
   "source": [
    "with open(\"D_virilis_pubs.txt\") as datafile:\n",
    "    author_dict = {}\n",
    "    for line in datafile:\n",
    "        if re.match(\"AU\", line):\n",
    "            # capture author\n",
    "            author = line.split(\"-\", 1)[1]\n",
    "            # remove leading and trailing whitespace\n",
    "            author = author.strip()\n",
    "            # if key is present, add 1\n",
    "            # if it's not present, initialize at 1\n",
    "            author_dict[author] = 1 + author_dict.get(author, 0)"
   ]
  },
  {
   "cell_type": "markdown",
   "metadata": {},
   "source": [
    "## Find the top five researchers"
   ]
  },
  {
   "cell_type": "markdown",
   "metadata": {},
   "source": [
    "Dictionaries do not have a natural order but we can sort a dictionary based on the values using the function ```sorted```. We retrieve the number of contributions per author from our ```author_dict``` using ```author_dict.get``` and use it as value in the ```sorted``` function. ```sorted``` returns a list that can be indexed to return only the top 5 of researchers."
   ]
  },
  {
   "cell_type": "code",
   "execution_count": 7,
   "metadata": {},
   "outputs": [
    {
     "name": "stdout",
     "output_type": "stream",
     "text": [
      "Gruntenko NE : 36\n",
      "Evgen'ev MB : 30\n",
      "Hoikkala A : 24\n",
      "Raushenbakh IIu : 24\n",
      "Korochkin LI : 22\n"
     ]
    }
   ],
   "source": [
    "for author in sorted(author_dict, key = author_dict.get, reverse = True)[:5]:\n",
    "    print(author, \":\", author_dict[author])"
   ]
  }
 ],
 "metadata": {
  "kernelspec": {
   "display_name": "Python 3",
   "language": "python",
   "name": "python3"
  },
  "language_info": {
   "codemirror_mode": {
    "name": "ipython",
    "version": 3
   },
   "file_extension": ".py",
   "mimetype": "text/x-python",
   "name": "python",
   "nbconvert_exporter": "python",
   "pygments_lexer": "ipython3",
   "version": "3.6.7"
  }
 },
 "nbformat": 4,
 "nbformat_minor": 1
}
