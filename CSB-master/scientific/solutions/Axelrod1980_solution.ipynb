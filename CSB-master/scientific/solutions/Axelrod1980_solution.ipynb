{
 "cells": [
  {
   "cell_type": "markdown",
   "metadata": {},
   "source": [
    "## Solution of 6.6.3, Axelrod 1980 "
   ]
  },
  {
   "cell_type": "code",
   "execution_count": 1,
   "metadata": {},
   "outputs": [],
   "source": [
    "import numpy as np"
   ]
  },
  {
   "cell_type": "markdown",
   "metadata": {},
   "source": [
    "## Implement the five strategies"
   ]
  },
  {
   "cell_type": "code",
   "execution_count": 2,
   "metadata": {},
   "outputs": [],
   "source": [
    "# We are going to implement five strategies. \n",
    "# Each strategy takes as input the history of the turns played so far\n",
    "# and returns 1 for cooperation and 0 for defection.\n",
    "\n",
    "# 1) Always defect\n",
    "def always_defect(previous_steps):\n",
    "    return 0\n",
    "\n",
    "# 2) Always cooperate\n",
    "def always_cooperate(previous_steps):\n",
    "    return 1\n",
    "\n",
    "# 3) Purely random, with probability of defecting 0.5\n",
    "def random(previous_steps):\n",
    "    if np.random.random(1) > 0.5:\n",
    "        return 1\n",
    "    return 0\n",
    "\n",
    "# 4) Tit for tat\n",
    "def tit_for_tat(previous_steps):\n",
    "    if len(previous_steps) == 0:\n",
    "        return 1\n",
    "    return previous_steps[-1]\n",
    "\n",
    "# 5) Tit for two tat\n",
    "def tit_for_two_tat(previous_steps):\n",
    "    if len(previous_steps) < 2:\n",
    "        return 1\n",
    "    # if the other player defected twice\n",
    "    if sum(previous_steps[-2:]) == 0:\n",
    "        # retaliate\n",
    "        return 0\n",
    "    return 1"
   ]
  },
  {
   "cell_type": "markdown",
   "metadata": {},
   "source": [
    "## Write a function that accepts the name of two strategies and   competes them in a game of iterated prisoner's dilemma for a given   number of turns."
   ]
  },
  {
   "cell_type": "markdown",
   "metadata": {},
   "source": [
    "You could implement a series of ```if elif``` that plays each strategy against the other. Here, we present a more advanced approach that matches a string such as \"strategy_1\" with a name of a corresponding function. The call ```globals()[strategy_1]``` does just that. Now ```pl1``` is an \"alias\" that calls the function that corresponds to the chosen strategy."
   ]
  },
  {
   "cell_type": "code",
   "execution_count": 3,
   "metadata": {},
   "outputs": [],
   "source": [
    "def play_strategies(strategy_1, strategy_2, nsteps = 200):\n",
    "    pl1 = globals()[strategy_1]\n",
    "    pl2 = globals()[strategy_2]    \n",
    "    # We create two vectors to store the moves of the players\n",
    "    steps_pl1 = []\n",
    "    steps_pl2 = []\n",
    "    # and two variables for keeping the scores. \n",
    "    # (because we said these are numbers of years in prison, we \n",
    "    # use negative payoffs, with less negative being better)\n",
    "    points_pl1 = 0\n",
    "    points_pl2 = 0\n",
    "    # Iterate over the number of steps\n",
    "    for i in range(nsteps):\n",
    "        # decide strategy:\n",
    "        # player 1 chooses using the history of the moves by player 2\n",
    "        last_pl1 = pl1(steps_pl2) \n",
    "        # and vice versa\n",
    "        last_pl2 = pl2(steps_pl1)\n",
    "        # calculate payoff\n",
    "        if last_pl1 == 1 and last_pl2 == 1:\n",
    "            # both cooperate -> -1 point each\n",
    "            points_pl1 = points_pl1 - 1\n",
    "            points_pl2 = points_pl2 - 1\n",
    "        elif last_pl1 == 0 and last_pl2 == 1:\n",
    "            # pl2 lose\n",
    "            points_pl1 = points_pl1 - 0\n",
    "            points_pl2 = points_pl2 - 3\n",
    "        elif last_pl1 == 1 and last_pl2 == 0:\n",
    "            # pl1 lose\n",
    "            points_pl1 = points_pl1 - 3\n",
    "            points_pl2 = points_pl2 - 0\n",
    "        else:\n",
    "            # both defect\n",
    "            points_pl1 = points_pl1 - 2\n",
    "            points_pl2 = points_pl2 - 2\n",
    "        # add the moves to the history\n",
    "        steps_pl1.append(last_pl1)\n",
    "        steps_pl2.append(last_pl2)\n",
    "    # return the final scores\n",
    "    return((points_pl1, points_pl2))"
   ]
  },
  {
   "cell_type": "code",
   "execution_count": 4,
   "metadata": {},
   "outputs": [
    {
     "data": {
      "text/plain": [
       "(-506, -188)"
      ]
     },
     "execution_count": 4,
     "metadata": {},
     "output_type": "execute_result"
    }
   ],
   "source": [
    "# Your numbers will differ given the involved randomness\n",
    "play_strategies(\"random\", \"always_defect\")"
   ]
  },
  {
   "cell_type": "markdown",
   "metadata": {},
   "source": [
    "## Implement a round-robin tournament, in which each strategy is played against every other (including against itself) for 10 rounds of 1000 turns each."
   ]
  },
  {
   "cell_type": "code",
   "execution_count": 5,
   "metadata": {},
   "outputs": [],
   "source": [
    "def round_robin(strategies, nround, nstep):\n",
    "    nstrategies = len(strategies)\n",
    "    # initialize list for results\n",
    "    strategies_points = [0] * nstrategies\n",
    "    # for each pair\n",
    "    for i in range(nstrategies):\n",
    "        for j in range(i, nstrategies):\n",
    "            print(\"Playing\", strategies[i], \"vs.\", strategies[j])\n",
    "            for k in range(nround):\n",
    "                res = play_strategies(strategies[i], \n",
    "                                      strategies[j], \n",
    "                                      nstep)\n",
    "                # print(res)\n",
    "                strategies_points[i] = strategies_points[i] + res[0]\n",
    "                strategies_points[j] = strategies_points[j] + res[1]\n",
    "    print(\"\\nThe final results are:\")\n",
    "    for i in range(nstrategies):\n",
    "        print(strategies[i] + \":\", strategies_points[i])\n",
    "    print(\"\\nand the winner is....\")\n",
    "    print(strategies[strategies_points.index(max(strategies_points))])\n",
    "                "
   ]
  },
  {
   "cell_type": "code",
   "execution_count": 6,
   "metadata": {},
   "outputs": [],
   "source": [
    "my_strategies = [\"always_defect\",\n",
    "                 \"always_cooperate\", \n",
    "                 \"random\", \n",
    "                 \"tit_for_tat\", \n",
    "                 \"tit_for_two_tat\"]"
   ]
  },
  {
   "cell_type": "code",
   "execution_count": 7,
   "metadata": {},
   "outputs": [
    {
     "name": "stdout",
     "output_type": "stream",
     "text": [
      "Playing always_defect vs. always_defect\n",
      "Playing always_defect vs. always_cooperate\n",
      "Playing always_defect vs. random\n",
      "Playing always_defect vs. tit_for_tat\n",
      "Playing always_defect vs. tit_for_two_tat\n",
      "Playing always_cooperate vs. always_cooperate\n",
      "Playing always_cooperate vs. random\n",
      "Playing always_cooperate vs. tit_for_tat\n",
      "Playing always_cooperate vs. tit_for_two_tat\n",
      "Playing random vs. random\n",
      "Playing random vs. tit_for_tat\n",
      "Playing random vs. tit_for_two_tat\n",
      "Playing tit_for_tat vs. tit_for_tat\n",
      "Playing tit_for_tat vs. tit_for_two_tat\n",
      "Playing tit_for_two_tat vs. tit_for_two_tat\n",
      "\n",
      "The final results are:\n",
      "always_defect: -89916\n",
      "always_cooperate: -90012\n",
      "random: -85013\n",
      "tit_for_tat: -74957\n",
      "tit_for_two_tat: -77465\n",
      "\n",
      "and the winner is....\n",
      "tit_for_tat\n"
     ]
    }
   ],
   "source": [
    "# Your numbers will differ slightly given the involved randomness\n",
    "round_robin(my_strategies, 10, 1000)"
   ]
  }
 ],
 "metadata": {
  "celltoolbar": "Raw Cell Format",
  "kernelspec": {
   "display_name": "Python 3",
   "language": "python",
   "name": "python3"
  },
  "language_info": {
   "codemirror_mode": {
    "name": "ipython",
    "version": 3
   },
   "file_extension": ".py",
   "mimetype": "text/x-python",
   "name": "python",
   "nbconvert_exporter": "python",
   "pygments_lexer": "ipython3",
   "version": "3.6.7"
  }
 },
 "nbformat": 4,
 "nbformat_minor": 1
}
