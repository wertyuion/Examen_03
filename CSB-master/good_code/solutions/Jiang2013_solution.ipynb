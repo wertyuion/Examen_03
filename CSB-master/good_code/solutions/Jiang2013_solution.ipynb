{
 "cells": [
  {
   "cell_type": "markdown",
   "metadata": {},
   "source": [
    "# Solution of 4.10.1, Jiang *et al.* 2013"
   ]
  },
  {
   "cell_type": "markdown",
   "metadata": {},
   "source": [
    "### Write a function that takes as input the desired `Taxon`, and returns the mean value of `r`."
   ]
  },
  {
   "cell_type": "markdown",
   "metadata": {},
   "source": [
    "First, we're going to import the csv module, and read the data. We store the taxon name in the list `Taxa`, and the corresponding `r` value in the list `r_values`. Note that we need to convert the values to `float` (we need numbers, and they are read as strings)."
   ]
  },
  {
   "cell_type": "code",
   "execution_count": 1,
   "metadata": {},
   "outputs": [],
   "source": [
    "import csv"
   ]
  },
  {
   "cell_type": "code",
   "execution_count": 2,
   "metadata": {},
   "outputs": [],
   "source": [
    "with open('../data/Jiang2013_data.csv') as csvfile:\n",
    "    # set up csv reader and specify correct delimiter\n",
    "    reader = csv.DictReader(csvfile, delimiter = '\\t')\n",
    "    taxa = []\n",
    "    r_values = []\n",
    "    for row in reader:\n",
    "        taxa.append(row['Taxon'])\n",
    "        r_values.append(float(row['r']))"
   ]
  },
  {
   "cell_type": "markdown",
   "metadata": {},
   "source": [
    "We check the first five entries to make sure that everything went well:"
   ]
  },
  {
   "cell_type": "code",
   "execution_count": 3,
   "metadata": {},
   "outputs": [
    {
     "data": {
      "text/plain": [
       "['Fish', 'Fish', 'Fish', 'Amphibian', 'Amphibian']"
      ]
     },
     "execution_count": 3,
     "metadata": {},
     "output_type": "execute_result"
    }
   ],
   "source": [
    "taxa[:5]"
   ]
  },
  {
   "cell_type": "code",
   "execution_count": 4,
   "metadata": {},
   "outputs": [
    {
     "data": {
      "text/plain": [
       "[-0.11, 0.38, 0.51, 0.868, 0.297]"
      ]
     },
     "execution_count": 4,
     "metadata": {},
     "output_type": "execute_result"
    }
   ],
   "source": [
    "r_values[:5]"
   ]
  },
  {
   "cell_type": "markdown",
   "metadata": {},
   "source": [
    "Now we write a function that, given a list of taxa names and corresponding `r` values, calculates the mean `r` for a given category of taxa:"
   ]
  },
  {
   "cell_type": "code",
   "execution_count": 5,
   "metadata": {},
   "outputs": [],
   "source": [
    "def get_mean_r(names, values, target_taxon = 'Fish'):\n",
    "    n = len(names)\n",
    "    mean_r = 0.0\n",
    "    sample_size = 0\n",
    "    for i in range(n):\n",
    "        if names[i] == target_taxon:\n",
    "            mean_r = mean_r + values[i]\n",
    "            sample_size = sample_size + 1\n",
    "    return mean_r / sample_size"
   ]
  },
  {
   "cell_type": "markdown",
   "metadata": {},
   "source": [
    "Test the function using `Fish` as target taxon:"
   ]
  },
  {
   "cell_type": "code",
   "execution_count": 6,
   "metadata": {},
   "outputs": [
    {
     "data": {
      "text/plain": [
       "0.39719005173783783"
      ]
     },
     "execution_count": 6,
     "metadata": {},
     "output_type": "execute_result"
    }
   ],
   "source": [
    "get_mean_r(taxa, r_values, target_taxon = 'Fish')"
   ]
  },
  {
   "cell_type": "markdown",
   "metadata": {},
   "source": [
    "Let's try to run this on all taxa. We can write a separate function that returns the set of unique taxa in the database:"
   ]
  },
  {
   "cell_type": "code",
   "execution_count": 7,
   "metadata": {},
   "outputs": [],
   "source": [
    "def get_taxa_list(names):\n",
    "    return(set(names))"
   ]
  },
  {
   "cell_type": "code",
   "execution_count": 8,
   "metadata": {},
   "outputs": [
    {
     "data": {
      "text/plain": [
       "{'Amphibian',\n",
       " 'Annelids',\n",
       " 'Bird',\n",
       " 'Chelicerate',\n",
       " 'Crustacean',\n",
       " 'Fish',\n",
       " 'Gastropod',\n",
       " 'Insect',\n",
       " 'Mammal',\n",
       " 'Protist',\n",
       " 'Reptile'}"
      ]
     },
     "execution_count": 8,
     "metadata": {},
     "output_type": "execute_result"
    }
   ],
   "source": [
    "get_taxa_list(taxa)"
   ]
  },
  {
   "cell_type": "markdown",
   "metadata": {},
   "source": [
    "Calculate the mean `r` for each taxon:"
   ]
  },
  {
   "cell_type": "code",
   "execution_count": 9,
   "metadata": {},
   "outputs": [
    {
     "name": "stdout",
     "output_type": "stream",
     "text": [
      "Fish 0.39719005173783783\n",
      "Chelicerate 0.49113529650000004\n",
      "Annelids 0.2\n",
      "Mammal 0.009\n",
      "Insect 0.19664531553867934\n",
      "Amphibian 0.18552824175524468\n",
      "Reptile 0.11750000000000002\n",
      "Bird 0.13175671104423078\n",
      "Protist 0.61402\n",
      "Crustacean 0.40302827731946345\n",
      "Gastropod 0.40099999999999997\n"
     ]
    }
   ],
   "source": [
    "for t in get_taxa_list(taxa):\n",
    "    print(t, get_mean_r(taxa, r_values, target_taxon = t))"
   ]
  },
  {
   "cell_type": "markdown",
   "metadata": {},
   "source": [
    "### You should see that fish have a positive value of `r`, but that this is also true for other taxa. Is the mean value of `r` especially high for fish? To test this, compute a *p-value* by repeatedly sampling 37 values of `r` at random (37 experiments on fish are reported in the database), and calculating the probability of observing a  higher mean value of `r`. To get an accurate estimate of the *p-value*, use 50,000 randomizations."
   ]
  },
  {
   "cell_type": "markdown",
   "metadata": {},
   "source": [
    "Are these values of assortative mating high, compared to what is expected by chance? We can try associating a *p-value* to each `r` value by repeatedly computing the mean `r` of randomized taxa and observing how often we obtain a mean `r` larger than the observed value. There are many other ways of obtaining such an emperical *p-value*, for example counting how many times a certain taxon is represented, and sampling the values at random."
   ]
  },
  {
   "cell_type": "code",
   "execution_count": 10,
   "metadata": {},
   "outputs": [],
   "source": [
    "import scipy # scipy for random shuffle\n",
    "\n",
    "def get_p_value_for_mean_r(names, \n",
    "                           values, \n",
    "                           target_taxon = 'Fish', \n",
    "                           num_simulations = 1000):\n",
    "    # compute the (observed) mean_r\n",
    "    obs_mean_r = get_mean_r(names, values, target_taxon)\n",
    "    # create a copy of the names, to be randomized\n",
    "    rnd_names = names[:]\n",
    "    # create counter for observations that are higher than obs_mean_r\n",
    "    count_mean_r = 0.0\n",
    "    for i in range(num_simulations):\n",
    "        # shuffle the taxa names\n",
    "        scipy.random.shuffle(rnd_names)\n",
    "        # calculate mean r value of randomized data\n",
    "        rnd_mean_r = get_mean_r(rnd_names, values, target_taxon)\n",
    "        # count number of rdn_mean_r that are larger or equal to obs_mean_r\n",
    "        if rnd_mean_r >= obs_mean_r:\n",
    "            count_mean_r = count_mean_r + 1.0\n",
    "    # calculate p_value: chance of observing rnd_r_mean larger than r_mean\n",
    "    p_value = count_mean_r / num_simulations\n",
    "    return [target_taxon, round(obs_mean_r, 3), round(p_value, 5)]"
   ]
  },
  {
   "cell_type": "markdown",
   "metadata": {},
   "source": [
    "Let's try the function on `Fish`:"
   ]
  },
  {
   "cell_type": "code",
   "execution_count": 11,
   "metadata": {},
   "outputs": [
    {
     "data": {
      "text/plain": [
       "['Fish', 0.397, 0.00328]"
      ]
     },
     "execution_count": 11,
     "metadata": {},
     "output_type": "execute_result"
    }
   ],
   "source": [
    "get_p_value_for_mean_r(taxa, r_values, 'Fish', 50000)"
   ]
  },
  {
   "cell_type": "markdown",
   "metadata": {},
   "source": [
    "A very small *p-value*: this means that the observed mean `r` value (0.397) is larger than what we would expect by chance. Note that your calculated *p-value* might deviate slightly from ours given the randomness in a simulation."
   ]
  },
  {
   "cell_type": "markdown",
   "metadata": {},
   "source": [
    "### Repeat the procedure for all taxa."
   ]
  },
  {
   "cell_type": "code",
   "execution_count": 12,
   "metadata": {},
   "outputs": [
    {
     "name": "stdout",
     "output_type": "stream",
     "text": [
      "['Fish', 0.397, 0.00348]\n",
      "['Chelicerate', 0.491, 0.01142]\n",
      "['Annelids', 0.2, 0.5905]\n",
      "['Mammal', 0.009, 0.84474]\n",
      "['Insect', 0.197, 0.99854]\n",
      "['Amphibian', 0.186, 0.99998]\n",
      "['Reptile', 0.118, 0.93066]\n",
      "['Bird', 0.132, 0.99988]\n",
      "['Protist', 0.614, 0.00394]\n",
      "['Crustacean', 0.403, 0.0]\n",
      "['Gastropod', 0.401, 0.07638]\n"
     ]
    }
   ],
   "source": [
    "for t in get_taxa_list(taxa):\n",
    "    print(get_p_value_for_mean_r(taxa, r_values, t, 50000))"
   ]
  },
  {
   "cell_type": "markdown",
   "metadata": {},
   "source": [
    "Fish, Protists and Crustaceans have higher mean `r` values than expected by chance (*p-value* $\\leq$ 0.01). Insects, Amphibians and Birds have lower values than expected by chance (*p-value* $\\geq$ 0.99)."
   ]
  }
 ],
 "metadata": {
  "kernelspec": {
   "display_name": "Python 3",
   "language": "python",
   "name": "python3"
  },
  "language_info": {
   "codemirror_mode": {
    "name": "ipython",
    "version": 3
   },
   "file_extension": ".py",
   "mimetype": "text/x-python",
   "name": "python",
   "nbconvert_exporter": "python",
   "pygments_lexer": "ipython3",
   "version": "3.6.4"
  }
 },
 "nbformat": 4,
 "nbformat_minor": 1
}
